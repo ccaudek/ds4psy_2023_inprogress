{
 "cells": [
  {
   "attachments": {},
   "cell_type": "markdown",
   "metadata": {},
   "source": [
    "(sec-appendix-numbers)=\n",
    "# Numeri binari, interi, razionali, irrazionali e reali \n",
    "\n",
    "## Numeri binari\n",
    "\n",
    "I numeri più semplici sono quelli binari, cioè zero o uno. Useremo spesso numeri binari per indicare se qualcosa è vero o falso, presente o assente. I numeri binari sono molto utili per ottenere facilmente delle statistiche riassuntive.Supponiamo di chiedere a 10 studenti \"Ti piacciono i mirtilli?\" Poniamo che le risposte siano le seguenti:"
   ]
  },
  {
   "cell_type": "code",
   "execution_count": 17,
   "metadata": {},
   "outputs": [
    {
     "data": {
      "text/plain": [
       "(True, False, True, True, True, False, True, True, True, False)"
      ]
     },
     "execution_count": 17,
     "metadata": {},
     "output_type": "execute_result"
    }
   ],
   "source": [
    "opinion = (True, False, True, True, True, False, True, True, True, False)\n",
    "opinion"
   ]
  },
  {
   "attachments": {},
   "cell_type": "markdown",
   "metadata": {},
   "source": [
    "In Python True equivale a 1 e False a zero. Possiamo dunque calcolare la proporzione di risposte positive:"
   ]
  },
  {
   "cell_type": "code",
   "execution_count": 21,
   "metadata": {},
   "outputs": [
    {
     "data": {
      "text/plain": [
       "0.7"
      ]
     },
     "execution_count": 21,
     "metadata": {},
     "output_type": "execute_result"
    }
   ],
   "source": [
    "sum(opinion) / len(opinion)"
   ]
  },
  {
   "attachments": {},
   "cell_type": "markdown",
   "metadata": {},
   "source": [
    "## Numeri interi\n",
    "\n",
    "Un numero intero è un numero senza decimali. Si dicono **naturali** i numeri che servono a contare, come 1, 2, ... L'insieme dei numeri naturali si indica con il simbolo $\\mathbb{N}$. È anche necessario introdurre i numeri con il segno per poter trattare grandezze negative. Si ottengono così l'insieme numerico dei numeri interi relativi: $\\mathbb{Z} = \\{0, \\pm 1, \\pm 2, \\dots \\}$\n",
    "\n",
    "## Numeri razionali\n",
    "\n",
    "I numeri razionali sono i numeri frazionari $m/n$, dove $m, n \\in N$, con $n \\neq 0$. Si ottengono così i numeri razionali: $\\mathbb{Q} = \\{\\frac{m}{n} \\,\\vert\\, m, n \\in \\mathbb{Z}, n \\neq 0\\}$. È evidente che $\\mathbb{N} \\subseteq \\mathbb{Z} \\subseteq \\mathbb{Q}$. Anche in questo caso è necessario poter trattare grandezze negative. I numeri razionali non negativi sono indicati con $\\mathbb{Q^+} = \\{q \\in \\mathbb{Q} \\,\\vert\\, q \\geq 0\\}$.\n",
    "\n",
    "## Numeri irrazionali\n",
    "\n",
    "Tuttavia, non tutti i punti di una retta $r$ possono essere rappresentati mediante i numeri interi e razionali. È dunque necessario introdurre un'altra classe di numeri. Si dicono *irrazionali*, e sono denotati con $\\mathbb{R}$, i numeri che possono essere scritti come una frazione $a / b$, con $a$ e $b$ interi e $b$ diverso da 0. I numeri irrazionali sono i numeri illimitati e non periodici che quindi non possono essere espressi sotto forma di frazione. Per esempio, $\\sqrt{2}$, $\\sqrt{3}$ e ${\\displaystyle \\pi =3,141592\\ldots}$ sono numeri irrazionali.\n",
    "\n",
    "## Numeri reali\n",
    "\n",
    "I punti della retta $r$ sono quindi \"di più\" dei numeri razionali. Per poter rappresentare tutti i punti della retta abbiamo dunque bisogno dei numeri *reali*. I numeri reali possono essere positivi, negativi o nulli e comprendono, come casi particolari, i numeri interi, i numeri razionali e i numeri irrazionali. Spesso in statisticac il numero dei decimali indica il grado di precisione della misurazione.\n",
    "\n",
    "## Intervalli\n",
    "\n",
    "Un intervallo si dice chiuso se gli estremi sono compresi nell'intervallo, aperto se gli estremi non sono compresi. Le caratteristiche degli intervalli sono riportate nella tabella seguente.\n",
    "\n",
    "|             Intervallo              |          |                   |\n",
    "|:-----------------------------------:|----------|-------------------|\n",
    "|               chiuso                | $[a, b]$ | $a \\leq x \\leq b$ |\n",
    "|               aperto                | $(a, b)$ | $a < x < b$       |\n",
    "| chiuso a sinistra e aperto a destra | $[a, b)$ | $a \\leq x < b$    |\n",
    "| aperto a sinistra e chiuso a destra | $(a, b]$ | $a < x \\leq b$    |\n"
   ]
  }
 ],
 "metadata": {
  "kernelspec": {
   "display_name": "bambi_env",
   "language": "python",
   "name": "python3"
  },
  "language_info": {
   "codemirror_mode": {
    "name": "ipython",
    "version": 3
   },
   "file_extension": ".py",
   "mimetype": "text/x-python",
   "name": "python",
   "nbconvert_exporter": "python",
   "pygments_lexer": "ipython3",
   "version": "3.8.15 (default, Nov 24 2022, 09:04:07) \n[Clang 14.0.6 ]"
  },
  "orig_nbformat": 4,
  "vscode": {
   "interpreter": {
    "hash": "e957f8d2d9272acec629608affb587206e5d92bb0d8d335f71da72c549770d8b"
   }
  }
 },
 "nbformat": 4,
 "nbformat_minor": 2
}
