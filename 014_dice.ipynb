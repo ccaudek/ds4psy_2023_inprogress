{
 "cells": [
  {
   "attachments": {},
   "cell_type": "markdown",
   "metadata": {},
   "source": [
    "# Calcolo combinatorio\n",
    "\n",
    "Consideriamo alcuni esempi nei quali viene usato Python per risolvere dei semplici problemi di calcolo combinatorio. Questo è più che altro un esercizio per fare pratica con Python.\n",
    "\n",
    "Gli esempi sono stati ricavati dalla seguente [pagina web](https://mathforprogramming.github.io/probability/lecture04.html)\n",
    "\n",
    "Consideriamo l'esperimento casuale corrispondente al lancio di un dado bilanciato. Creo lo spazio campione di questo esperimento casuale."
   ]
  },
  {
   "cell_type": "code",
   "execution_count": 1,
   "metadata": {},
   "outputs": [
    {
     "name": "stdout",
     "output_type": "stream",
     "text": [
      "[1, 2, 3, 4, 5, 6]\n"
     ]
    }
   ],
   "source": [
    "sample = [dice1 for dice1 in range(1,7)]\n",
    "print(sample)"
   ]
  },
  {
   "attachments": {},
   "cell_type": "markdown",
   "metadata": {},
   "source": [
    "Definisco l'evento 'risultato dispari'."
   ]
  },
  {
   "cell_type": "code",
   "execution_count": 3,
   "metadata": {},
   "outputs": [
    {
     "name": "stdout",
     "output_type": "stream",
     "text": [
      "[1, 2, 3]\n"
     ]
    }
   ],
   "source": [
    "event = [roll for roll in sample if roll < 4]\n",
    "print(event)"
   ]
  },
  {
   "attachments": {},
   "cell_type": "markdown",
   "metadata": {},
   "source": [
    "Calcolo la probabilità di ottenere un numero minore di 4 quando lancio un dado bilanciato."
   ]
  },
  {
   "cell_type": "code",
   "execution_count": 3,
   "metadata": {},
   "outputs": [
    {
     "name": "stdout",
     "output_type": "stream",
     "text": [
      "3 / 6\n"
     ]
    }
   ],
   "source": [
    "print(len(event), \"/\", len(sample))"
   ]
  },
  {
   "attachments": {},
   "cell_type": "markdown",
   "metadata": {},
   "source": [
    "Creo lo spazio campione del lancio di due dadi bilanciati."
   ]
  },
  {
   "cell_type": "code",
   "execution_count": 4,
   "metadata": {},
   "outputs": [
    {
     "name": "stdout",
     "output_type": "stream",
     "text": [
      "[(1, 1), (1, 2), (1, 3), (1, 4), (1, 5), (1, 6), (2, 1), (2, 2), (2, 3), (2, 4), (2, 5), (2, 6), (3, 1), (3, 2), (3, 3), (3, 4), (3, 5), (3, 6), (4, 1), (4, 2), (4, 3), (4, 4), (4, 5), (4, 6), (5, 1), (5, 2), (5, 3), (5, 4), (5, 5), (5, 6), (6, 1), (6, 2), (6, 3), (6, 4), (6, 5), (6, 6)]\n"
     ]
    }
   ],
   "source": [
    "sample = [(dice1, dice2) for dice1 in range(1,7) \\\n",
    "                        for dice2 in range(1,7)]\n",
    "print(sample)"
   ]
  },
  {
   "attachments": {},
   "cell_type": "markdown",
   "metadata": {},
   "source": [
    "Trovo la probabilità di ottenere almeno un 6 quando lancio due dadi."
   ]
  },
  {
   "cell_type": "code",
   "execution_count": 5,
   "metadata": {},
   "outputs": [
    {
     "name": "stdout",
     "output_type": "stream",
     "text": [
      "11 / 36\n"
     ]
    }
   ],
   "source": [
    "event = [roll for roll in sample if roll[0] == 6 or roll[1] == 6]\n",
    "print(len(event), \"/\", len(sample))"
   ]
  },
  {
   "attachments": {},
   "cell_type": "markdown",
   "metadata": {},
   "source": [
    "Probabilità di non ottenere nessun 6 quando lancio due dadi bilanciati."
   ]
  },
  {
   "cell_type": "code",
   "execution_count": 6,
   "metadata": {},
   "outputs": [
    {
     "name": "stdout",
     "output_type": "stream",
     "text": [
      "25 / 36\n"
     ]
    }
   ],
   "source": [
    "event = [roll for roll in sample \\\n",
    "    if roll[1] != 6 and roll[0] != 6]\n",
    "print(len(event), \"/\", len(sample))"
   ]
  },
  {
   "attachments": {},
   "cell_type": "markdown",
   "metadata": {},
   "source": [
    "Probabilità che la somma dei due lanci dia 6."
   ]
  },
  {
   "cell_type": "code",
   "execution_count": 7,
   "metadata": {},
   "outputs": [
    {
     "name": "stdout",
     "output_type": "stream",
     "text": [
      "5 / 36\n"
     ]
    }
   ],
   "source": [
    "event = [roll for roll in sample if roll[0] + roll[1] == 6]\n",
    "print(len(event), \"/\", len(sample))"
   ]
  },
  {
   "attachments": {},
   "cell_type": "markdown",
   "metadata": {},
   "source": [
    "Probabilità che la somma di tre lanci dia 10."
   ]
  },
  {
   "cell_type": "code",
   "execution_count": 8,
   "metadata": {},
   "outputs": [
    {
     "name": "stdout",
     "output_type": "stream",
     "text": [
      "27 / 216\n"
     ]
    }
   ],
   "source": [
    "r = range(1,7)\n",
    "sample = [(i,j,k) for i in r for j in r for k in r]\n",
    "event = [roll for roll in sample if sum(roll)==10]\n",
    "print(len(event), \"/\", len(sample))"
   ]
  },
  {
   "attachments": {},
   "cell_type": "markdown",
   "metadata": {},
   "source": [
    "Probabilità che la somma di quattro lanci dia 13."
   ]
  },
  {
   "cell_type": "code",
   "execution_count": 9,
   "metadata": {},
   "outputs": [
    {
     "name": "stdout",
     "output_type": "stream",
     "text": [
      "140 / 1296\n"
     ]
    }
   ],
   "source": [
    "r = range(1,7)\n",
    "sample = [(i,j,k,l) for i in r for j in r for k in r for l in r]\n",
    "event = [roll for roll in sample if sum(roll)==13]\n",
    "print(len(event), \"/\", len(sample))"
   ]
  },
  {
   "attachments": {},
   "cell_type": "markdown",
   "metadata": {},
   "source": [
    "Probabilità di ottenere solo un 6 quando lancio quattro dadi."
   ]
  },
  {
   "cell_type": "code",
   "execution_count": 10,
   "metadata": {},
   "outputs": [
    {
     "name": "stdout",
     "output_type": "stream",
     "text": [
      "500 / 1296\n"
     ]
    }
   ],
   "source": [
    "def numsix(roll):\n",
    "      return len([dice for dice in roll if dice == 6])\n",
    "\n",
    "event = [roll for roll in sample if numsix(roll)==1]\n",
    "print(len(event), \"/\", len(sample))"
   ]
  },
  {
   "attachments": {},
   "cell_type": "markdown",
   "metadata": {},
   "source": [
    "Probabilità di ottenere quattro 6 quando lancio otto dadi."
   ]
  },
  {
   "cell_type": "code",
   "execution_count": 11,
   "metadata": {},
   "outputs": [
    {
     "name": "stdout",
     "output_type": "stream",
     "text": [
      "43750 / 1679616\n"
     ]
    }
   ],
   "source": [
    "sample = [[i] for i in range(1,7)]\n",
    "for i in range(7):\n",
    "      sample = [x + [i] for x in sample for i in range (1,7)]\n",
    "\n",
    "event = [roll for roll in sample if numsix(roll)==4]\n",
    "print(len(event), \"/\", len(sample))"
   ]
  },
  {
   "attachments": {},
   "cell_type": "markdown",
   "metadata": {},
   "source": [
    "## Combinazioni"
   ]
  },
  {
   "cell_type": "code",
   "execution_count": 12,
   "metadata": {},
   "outputs": [],
   "source": [
    "from itertools import combinations, product, permutations"
   ]
  },
  {
   "attachments": {},
   "cell_type": "markdown",
   "metadata": {},
   "source": [
    "Dobbiamo contare quante mani di 5 carte si possono ottenere da un mazzo di 52. La risposta è data dal numero di combinazioni (52, 5).\n",
    "Di queste, dobbiamo contare quante contengono quattro assi (ovvero, 1).\n",
    "Iniziamo a creare il mazzo di 52 carte. Creaiamo una lista di 52 elementi. Ogni elemento è una coppia di numeri: il primo indica la carta (da 1 a 5) il secondo indica il valore della carta (da 1 a 13)."
   ]
  },
  {
   "cell_type": "code",
   "execution_count": 31,
   "metadata": {},
   "outputs": [
    {
     "data": {
      "text/plain": [
       "[(1, 1),\n",
       " (1, 2),\n",
       " (1, 3),\n",
       " (1, 4),\n",
       " (1, 5),\n",
       " (1, 6),\n",
       " (1, 7),\n",
       " (1, 8),\n",
       " (1, 9),\n",
       " (1, 10),\n",
       " (1, 11),\n",
       " (1, 12),\n",
       " (1, 13),\n",
       " (2, 1),\n",
       " (2, 2),\n",
       " (2, 3),\n",
       " (2, 4),\n",
       " (2, 5),\n",
       " (2, 6),\n",
       " (2, 7),\n",
       " (2, 8),\n",
       " (2, 9),\n",
       " (2, 10),\n",
       " (2, 11),\n",
       " (2, 12),\n",
       " (2, 13),\n",
       " (3, 1),\n",
       " (3, 2),\n",
       " (3, 3),\n",
       " (3, 4),\n",
       " (3, 5),\n",
       " (3, 6),\n",
       " (3, 7),\n",
       " (3, 8),\n",
       " (3, 9),\n",
       " (3, 10),\n",
       " (3, 11),\n",
       " (3, 12),\n",
       " (3, 13),\n",
       " (4, 1),\n",
       " (4, 2),\n",
       " (4, 3),\n",
       " (4, 4),\n",
       " (4, 5),\n",
       " (4, 6),\n",
       " (4, 7),\n",
       " (4, 8),\n",
       " (4, 9),\n",
       " (4, 10),\n",
       " (4, 11),\n",
       " (4, 12),\n",
       " (4, 13)]"
      ]
     },
     "execution_count": 31,
     "metadata": {},
     "output_type": "execute_result"
    }
   ],
   "source": [
    "cards = list(product(range(1,5), range(1,14)))\n",
    "cards"
   ]
  },
  {
   "attachments": {},
   "cell_type": "markdown",
   "metadata": {},
   "source": [
    "Creiamo tutte le combinazioni di 5 carte che si possono estrarre dal mazzo."
   ]
  },
  {
   "cell_type": "code",
   "execution_count": 32,
   "metadata": {},
   "outputs": [
    {
     "data": {
      "text/plain": [
       "2598960"
      ]
     },
     "execution_count": 32,
     "metadata": {},
     "output_type": "execute_result"
    }
   ],
   "source": [
    "sample = list(combinations(cards, 5))\n",
    "len(sample)"
   ]
  },
  {
   "attachments": {},
   "cell_type": "markdown",
   "metadata": {},
   "source": [
    "Esaminiamo le prime 10 mani. Si noti che il \"mazzo\" non è stato mescolato."
   ]
  },
  {
   "cell_type": "code",
   "execution_count": 35,
   "metadata": {},
   "outputs": [
    {
     "data": {
      "text/plain": [
       "[((1, 1), (1, 2), (1, 3), (1, 4), (1, 6)),\n",
       " ((1, 1), (1, 2), (1, 3), (1, 4), (1, 7)),\n",
       " ((1, 1), (1, 2), (1, 3), (1, 4), (1, 8)),\n",
       " ((1, 1), (1, 2), (1, 3), (1, 4), (1, 9)),\n",
       " ((1, 1), (1, 2), (1, 3), (1, 4), (1, 10)),\n",
       " ((1, 1), (1, 2), (1, 3), (1, 4), (1, 11)),\n",
       " ((1, 1), (1, 2), (1, 3), (1, 4), (1, 12)),\n",
       " ((1, 1), (1, 2), (1, 3), (1, 4), (1, 13)),\n",
       " ((1, 1), (1, 2), (1, 3), (1, 4), (2, 1))]"
      ]
     },
     "execution_count": 35,
     "metadata": {},
     "output_type": "execute_result"
    }
   ],
   "source": [
    "sample[1:10]"
   ]
  },
  {
   "attachments": {},
   "cell_type": "markdown",
   "metadata": {},
   "source": [
    "Dobbiamo ora contare quante volte il valore 1 (il secondo valore di ogni coppia di numeri) compare in una mano.\n",
    "Per ciascuna mano, contiamo il numero di '1'."
   ]
  },
  {
   "cell_type": "code",
   "execution_count": 41,
   "metadata": {},
   "outputs": [],
   "source": [
    "def numval(hand, val):\n",
    "      return len([card for card in hand if card[1] == val])"
   ]
  },
  {
   "attachments": {},
   "cell_type": "markdown",
   "metadata": {},
   "source": [
    "Chiediamoci ora quante mani contengono quattro '1'."
   ]
  },
  {
   "cell_type": "code",
   "execution_count": 42,
   "metadata": {},
   "outputs": [
    {
     "name": "stdout",
     "output_type": "stream",
     "text": [
      "48 / 2598960\n"
     ]
    }
   ],
   "source": [
    "event = [hand for hand in sample if numval(hand, 1)==4]\n",
    "print(len(event), \"/\", len(sample))"
   ]
  },
  {
   "cell_type": "code",
   "execution_count": 45,
   "metadata": {},
   "outputs": [
    {
     "name": "stdout",
     "output_type": "stream",
     "text": [
      "24 / 2598960\n"
     ]
    }
   ],
   "source": [
    "event = [hand for hand in sample \\\n",
    "    if numval(hand, 1)==2 and numval(hand, 11)==3]\n",
    "print(len(event), \"/\", len(sample))"
   ]
  }
 ],
 "metadata": {
  "kernelspec": {
   "display_name": "bambi_env",
   "language": "python",
   "name": "python3"
  },
  "language_info": {
   "codemirror_mode": {
    "name": "ipython",
    "version": 3
   },
   "file_extension": ".py",
   "mimetype": "text/x-python",
   "name": "python",
   "nbconvert_exporter": "python",
   "pygments_lexer": "ipython3",
   "version": "3.8.15 (default, Nov 24 2022, 09:04:07) \n[Clang 14.0.6 ]"
  },
  "orig_nbformat": 4,
  "vscode": {
   "interpreter": {
    "hash": "e957f8d2d9272acec629608affb587206e5d92bb0d8d335f71da72c549770d8b"
   }
  }
 },
 "nbformat": 4,
 "nbformat_minor": 2
}
